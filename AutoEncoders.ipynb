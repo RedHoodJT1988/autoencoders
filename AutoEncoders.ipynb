{
  "nbformat": 4,
  "nbformat_minor": 0,
  "metadata": {
    "colab": {
      "name": "AutoEncoders.ipynb",
      "provenance": []
    },
    "kernelspec": {
      "name": "python3",
      "display_name": "Python 3"
    },
    "language_info": {
      "name": "python"
    }
  },
  "cells": [
    {
      "cell_type": "markdown",
      "source": [
        "# AutoEncoders"
      ],
      "metadata": {
        "id": "OhNhDNlV-jLP"
      }
    },
    {
      "cell_type": "markdown",
      "source": [
        "## Download the Dataset"
      ],
      "metadata": {
        "id": "R486vD7P-nJw"
      }
    },
    {
      "cell_type": "markdown",
      "source": [
        "### ML-100k"
      ],
      "metadata": {
        "id": "flPGZSB--pJm"
      }
    },
    {
      "cell_type": "code",
      "source": [
        "!wget \"http://files.grouplens.org/datasets/movielens/ml-100k.zip\"\n",
        "!unzip ml-100k.zip\n",
        "!ls"
      ],
      "metadata": {
        "colab": {
          "base_uri": "https://localhost:8080/"
        },
        "id": "CF7BCpII-sZh",
        "outputId": "d4bed5f0-be21-4805-bcd2-630d16524caa"
      },
      "execution_count": 1,
      "outputs": [
        {
          "output_type": "stream",
          "name": "stdout",
          "text": [
            "--2022-03-30 13:22:59--  http://files.grouplens.org/datasets/movielens/ml-100k.zip\n",
            "Resolving files.grouplens.org (files.grouplens.org)... 128.101.65.152\n",
            "Connecting to files.grouplens.org (files.grouplens.org)|128.101.65.152|:80... connected.\n",
            "HTTP request sent, awaiting response... 200 OK\n",
            "Length: 4924029 (4.7M) [application/zip]\n",
            "Saving to: ‘ml-100k.zip’\n",
            "\n",
            "ml-100k.zip         100%[===================>]   4.70M  5.09MB/s    in 0.9s    \n",
            "\n",
            "2022-03-30 13:23:00 (5.09 MB/s) - ‘ml-100k.zip’ saved [4924029/4924029]\n",
            "\n",
            "Archive:  ml-100k.zip\n",
            "   creating: ml-100k/\n",
            "  inflating: ml-100k/allbut.pl       \n",
            "  inflating: ml-100k/mku.sh          \n",
            "  inflating: ml-100k/README          \n",
            "  inflating: ml-100k/u.data          \n",
            "  inflating: ml-100k/u.genre         \n",
            "  inflating: ml-100k/u.info          \n",
            "  inflating: ml-100k/u.item          \n",
            "  inflating: ml-100k/u.occupation    \n",
            "  inflating: ml-100k/u.user          \n",
            "  inflating: ml-100k/u1.base         \n",
            "  inflating: ml-100k/u1.test         \n",
            "  inflating: ml-100k/u2.base         \n",
            "  inflating: ml-100k/u2.test         \n",
            "  inflating: ml-100k/u3.base         \n",
            "  inflating: ml-100k/u3.test         \n",
            "  inflating: ml-100k/u4.base         \n",
            "  inflating: ml-100k/u4.test         \n",
            "  inflating: ml-100k/u5.base         \n",
            "  inflating: ml-100k/u5.test         \n",
            "  inflating: ml-100k/ua.base         \n",
            "  inflating: ml-100k/ua.test         \n",
            "  inflating: ml-100k/ub.base         \n",
            "  inflating: ml-100k/ub.test         \n",
            "ml-100k  ml-100k.zip  sample_data\n"
          ]
        }
      ]
    },
    {
      "cell_type": "markdown",
      "source": [
        "### ML-1M"
      ],
      "metadata": {
        "id": "LPWAt6LV-t2x"
      }
    },
    {
      "cell_type": "code",
      "source": [
        "!wget \"http://files.grouplens.org/dataset/movielens/ml-1m.zip\"\n",
        "!unzip ml-1m.zip\n",
        "!ls"
      ],
      "metadata": {
        "colab": {
          "base_uri": "https://localhost:8080/"
        },
        "id": "r1U0-Vci-yF0",
        "outputId": "ba43dbb5-998c-41c2-b254-39ce5dbf236a"
      },
      "execution_count": 2,
      "outputs": [
        {
          "output_type": "stream",
          "name": "stdout",
          "text": [
            "--2022-03-30 13:28:30--  http://files.grouplens.org/dataset/movielens/ml-1m.zip\n",
            "Resolving files.grouplens.org (files.grouplens.org)... 128.101.65.152\n",
            "Connecting to files.grouplens.org (files.grouplens.org)|128.101.65.152|:80... connected.\n",
            "HTTP request sent, awaiting response... 404 Not Found\n",
            "2022-03-30 13:28:31 ERROR 404: Not Found.\n",
            "\n",
            "unzip:  cannot find or open ml-1m.zip, ml-1m.zip.zip or ml-1m.zip.ZIP.\n",
            "ml-100k  ml-100k.zip  sample_data\n"
          ]
        }
      ]
    },
    {
      "cell_type": "markdown",
      "source": [
        "### Importing the Libraries"
      ],
      "metadata": {
        "id": "JsuPmbkr-zI4"
      }
    },
    {
      "cell_type": "code",
      "source": [
        "import numpy as np\n",
        "import pandas as pd\n",
        "import torch\n",
        "import torch.nn as nn\n",
        "import torch.optim as optim\n",
        "import torch.utils.data\n",
        "from torch.autograd import Variable"
      ],
      "metadata": {
        "id": "p1uQuXby-2r3"
      },
      "execution_count": 21,
      "outputs": []
    },
    {
      "cell_type": "markdown",
      "source": [
        "### Importing the Dataset"
      ],
      "metadata": {
        "id": "SlrleCp1-3Oi"
      }
    },
    {
      "cell_type": "markdown",
      "source": [
        "### Preparing the training set and the test set"
      ],
      "metadata": {
        "id": "LnW11Y4_-6I4"
      }
    },
    {
      "cell_type": "code",
      "source": [
        "training_set = pd.read_csv('ml-100k/u1.base', delimiter='\\t')\n",
        "training_set = np.array(training_set, dtype='int')\n",
        "test_set = pd.read_csv('ml-100k/u1.test', delimiter='\\t')\n",
        "test_set = np.array(test_set, dtype='int')"
      ],
      "metadata": {
        "id": "lhZuJULB-9Jj"
      },
      "execution_count": 22,
      "outputs": []
    },
    {
      "cell_type": "markdown",
      "source": [
        "Getting the number of users and movies"
      ],
      "metadata": {
        "id": "iHvsO4uR-9k2"
      }
    },
    {
      "cell_type": "code",
      "source": [
        "nb_users = int(max(max(training_set[:, 0], ), max(test_set[:, 0])))\n",
        "nb_movies = int(max(max(training_set[:, 1], ), max(test_set[:, 1])))"
      ],
      "metadata": {
        "id": "ogS6C-9p-_mH"
      },
      "execution_count": 23,
      "outputs": []
    },
    {
      "cell_type": "markdown",
      "source": [
        "### Converting the data into an array with users in lines and movies in columns"
      ],
      "metadata": {
        "id": "KOZbRRtE_AOs"
      }
    },
    {
      "cell_type": "code",
      "source": [
        "def convert(data):\n",
        "  new_data = []\n",
        "  for id_users in range(1, nb_users + 1):\n",
        "    id_movies = data[:, 1] [data[:, 0] == id_users]\n",
        "    id_ratings = data[:, 2] [data[:, 0] == id_users]\n",
        "    ratings = np.zeros(nb_movies)\n",
        "    ratings[id_movies - 1] = id_ratings\n",
        "    new_data.append(list(ratings))\n",
        "  return new_data\n",
        "training_set = convert(training_set)\n",
        "test_set = convert(test_set)"
      ],
      "metadata": {
        "id": "rFL9_mH-_Dns"
      },
      "execution_count": 24,
      "outputs": []
    },
    {
      "cell_type": "markdown",
      "source": [
        "### Converting the data into Torch tensors"
      ],
      "metadata": {
        "id": "NsNseYrS_EmZ"
      }
    },
    {
      "cell_type": "code",
      "source": [
        "training_set = torch.FloatTensor(training_set)\n",
        "test_set = torch.FloatTensor(test_set)"
      ],
      "metadata": {
        "id": "eaTLGPw8_H2D"
      },
      "execution_count": 25,
      "outputs": []
    },
    {
      "cell_type": "markdown",
      "source": [
        "### Creating the architecture of the Neural Network"
      ],
      "metadata": {
        "id": "8CJwVUmI_Iaf"
      }
    },
    {
      "cell_type": "code",
      "source": [
        "class SAE(nn.Module):\n",
        "  def __init__(self, ):\n",
        "    super(SAE, self).__init__()\n",
        "    self.fc1 = nn.Linear(nb_movies, 20)\n",
        "    self.fc2 = nn.Linear(20, 10)\n",
        "    self.fc3 = nn.Linear(10, 20)\n",
        "    self.fc4 = nn.Linear(20, nb_movies)\n",
        "    self.activation = nn.Sigmoid()\n",
        "  def forward(self, x):\n",
        "    x = self.activation(self.fc1(x))\n",
        "    x = self.activation(self.fc2(x))\n",
        "    x = self.activation(self.fc3(x))\n",
        "    x = self.fc4(x)\n",
        "    return x\n",
        "sae = SAE()\n",
        "criterion = nn.MSELoss()\n",
        "optimizer = optim.RMSprop(sae.parameters(), lr = 0.01, weight_decay=0.5)"
      ],
      "metadata": {
        "id": "cQBncEpM_LdY"
      },
      "execution_count": 26,
      "outputs": []
    },
    {
      "cell_type": "markdown",
      "source": [
        "### Training the SAE"
      ],
      "metadata": {
        "id": "mG3BU8L9_MNi"
      }
    },
    {
      "cell_type": "code",
      "source": [
        "nb_epoch = 200\n",
        "for epoch in range(1, nb_epoch + 1):\n",
        "  train_loss = 0\n",
        "  s = 0.\n",
        "  for id_user in range(nb_users):\n",
        "    input = Variable(training_set[id_user]).unsqueeze(0)\n",
        "    target = input.clone()\n",
        "    if torch.sum(target.data > 0) > 0:\n",
        "      output = sae(input)\n",
        "      target.require_grad = False\n",
        "      output[target == 0] = 0\n",
        "      loss = criterion(output, target)\n",
        "      mean_corrector = nb_movies/float(torch.sum(target.data > 0) + 1e-10)\n",
        "      loss.backward()\n",
        "      train_loss += np.sqrt(loss.data*mean_corrector)\n",
        "      s += 1.\n",
        "      optimizer.step()\n",
        "  print('epoch: '+str(epoch)+'loss: '+ str(train_loss/s))"
      ],
      "metadata": {
        "colab": {
          "base_uri": "https://localhost:8080/"
        },
        "id": "oxiy9X1q_PUi",
        "outputId": "1851fe55-6f77-410c-db06-5ddd97dbe4a8"
      },
      "execution_count": 27,
      "outputs": [
        {
          "output_type": "stream",
          "name": "stdout",
          "text": [
            "epoch: 1loss: tensor(1.7715)\n",
            "epoch: 2loss: tensor(1.0967)\n",
            "epoch: 3loss: tensor(1.0532)\n",
            "epoch: 4loss: tensor(1.0384)\n",
            "epoch: 5loss: tensor(1.0311)\n",
            "epoch: 6loss: tensor(1.0267)\n",
            "epoch: 7loss: tensor(1.0237)\n",
            "epoch: 8loss: tensor(1.0220)\n",
            "epoch: 9loss: tensor(1.0209)\n",
            "epoch: 10loss: tensor(1.0195)\n",
            "epoch: 11loss: tensor(1.0190)\n",
            "epoch: 12loss: tensor(1.0184)\n",
            "epoch: 13loss: tensor(1.0180)\n",
            "epoch: 14loss: tensor(1.0173)\n",
            "epoch: 15loss: tensor(1.0173)\n",
            "epoch: 16loss: tensor(1.0170)\n",
            "epoch: 17loss: tensor(1.0171)\n",
            "epoch: 18loss: tensor(1.0164)\n",
            "epoch: 19loss: tensor(1.0162)\n",
            "epoch: 20loss: tensor(1.0160)\n",
            "epoch: 21loss: tensor(1.0162)\n",
            "epoch: 22loss: tensor(1.0158)\n",
            "epoch: 23loss: tensor(1.0160)\n",
            "epoch: 24loss: tensor(1.0158)\n",
            "epoch: 25loss: tensor(1.0156)\n",
            "epoch: 26loss: tensor(1.0155)\n",
            "epoch: 27loss: tensor(1.0155)\n",
            "epoch: 28loss: tensor(1.0149)\n",
            "epoch: 29loss: tensor(1.0137)\n",
            "epoch: 30loss: tensor(1.0123)\n",
            "epoch: 31loss: tensor(1.0097)\n",
            "epoch: 32loss: tensor(1.0086)\n",
            "epoch: 33loss: tensor(1.0049)\n",
            "epoch: 34loss: tensor(1.0049)\n",
            "epoch: 35loss: tensor(1.0017)\n",
            "epoch: 36loss: tensor(0.9995)\n",
            "epoch: 37loss: tensor(0.9951)\n",
            "epoch: 38loss: tensor(0.9948)\n",
            "epoch: 39loss: tensor(0.9925)\n",
            "epoch: 40loss: tensor(0.9905)\n",
            "epoch: 41loss: tensor(0.9921)\n",
            "epoch: 42loss: tensor(0.9925)\n",
            "epoch: 43loss: tensor(0.9879)\n",
            "epoch: 44loss: tensor(0.9880)\n",
            "epoch: 45loss: tensor(0.9865)\n",
            "epoch: 46loss: tensor(0.9845)\n",
            "epoch: 47loss: tensor(0.9831)\n",
            "epoch: 48loss: tensor(0.9835)\n",
            "epoch: 49loss: tensor(0.9777)\n",
            "epoch: 50loss: tensor(0.9796)\n",
            "epoch: 51loss: tensor(0.9814)\n",
            "epoch: 52loss: tensor(0.9812)\n",
            "epoch: 53loss: tensor(0.9751)\n",
            "epoch: 54loss: tensor(0.9783)\n",
            "epoch: 55loss: tensor(0.9748)\n",
            "epoch: 56loss: tensor(0.9787)\n",
            "epoch: 57loss: tensor(0.9739)\n",
            "epoch: 58loss: tensor(0.9696)\n",
            "epoch: 59loss: tensor(0.9699)\n",
            "epoch: 60loss: tensor(0.9707)\n",
            "epoch: 61loss: tensor(0.9658)\n",
            "epoch: 62loss: tensor(0.9676)\n",
            "epoch: 63loss: tensor(0.9669)\n",
            "epoch: 64loss: tensor(0.9709)\n",
            "epoch: 65loss: tensor(0.9728)\n",
            "epoch: 66loss: tensor(0.9685)\n",
            "epoch: 67loss: tensor(0.9645)\n",
            "epoch: 68loss: tensor(0.9647)\n",
            "epoch: 69loss: tensor(0.9609)\n",
            "epoch: 70loss: tensor(0.9606)\n",
            "epoch: 71loss: tensor(0.9579)\n",
            "epoch: 72loss: tensor(0.9567)\n",
            "epoch: 73loss: tensor(0.9542)\n",
            "epoch: 74loss: tensor(0.9556)\n",
            "epoch: 75loss: tensor(0.9502)\n",
            "epoch: 76loss: tensor(0.9520)\n",
            "epoch: 77loss: tensor(0.9484)\n",
            "epoch: 78loss: tensor(0.9503)\n",
            "epoch: 79loss: tensor(0.9467)\n",
            "epoch: 80loss: tensor(0.9477)\n",
            "epoch: 81loss: tensor(0.9457)\n",
            "epoch: 82loss: tensor(0.9459)\n",
            "epoch: 83loss: tensor(0.9447)\n",
            "epoch: 84loss: tensor(0.9457)\n",
            "epoch: 85loss: tensor(0.9426)\n",
            "epoch: 86loss: tensor(0.9435)\n",
            "epoch: 87loss: tensor(0.9448)\n",
            "epoch: 88loss: tensor(0.9435)\n",
            "epoch: 89loss: tensor(0.9421)\n",
            "epoch: 90loss: tensor(0.9430)\n",
            "epoch: 91loss: tensor(0.9411)\n",
            "epoch: 92loss: tensor(0.9426)\n",
            "epoch: 93loss: tensor(0.9399)\n",
            "epoch: 94loss: tensor(0.9401)\n",
            "epoch: 95loss: tensor(0.9393)\n",
            "epoch: 96loss: tensor(0.9391)\n",
            "epoch: 97loss: tensor(0.9380)\n",
            "epoch: 98loss: tensor(0.9387)\n",
            "epoch: 99loss: tensor(0.9384)\n",
            "epoch: 100loss: tensor(0.9398)\n",
            "epoch: 101loss: tensor(0.9387)\n",
            "epoch: 102loss: tensor(0.9395)\n",
            "epoch: 103loss: tensor(0.9370)\n",
            "epoch: 104loss: tensor(0.9368)\n",
            "epoch: 105loss: tensor(0.9356)\n",
            "epoch: 106loss: tensor(0.9360)\n",
            "epoch: 107loss: tensor(0.9356)\n",
            "epoch: 108loss: tensor(0.9358)\n",
            "epoch: 109loss: tensor(0.9351)\n",
            "epoch: 110loss: tensor(0.9345)\n",
            "epoch: 111loss: tensor(0.9337)\n",
            "epoch: 112loss: tensor(0.9339)\n",
            "epoch: 113loss: tensor(0.9328)\n",
            "epoch: 114loss: tensor(0.9332)\n",
            "epoch: 115loss: tensor(0.9328)\n",
            "epoch: 116loss: tensor(0.9325)\n",
            "epoch: 117loss: tensor(0.9320)\n",
            "epoch: 118loss: tensor(0.9313)\n",
            "epoch: 119loss: tensor(0.9309)\n",
            "epoch: 120loss: tensor(0.9309)\n",
            "epoch: 121loss: tensor(0.9295)\n",
            "epoch: 122loss: tensor(0.9304)\n",
            "epoch: 123loss: tensor(0.9298)\n",
            "epoch: 124loss: tensor(0.9305)\n",
            "epoch: 125loss: tensor(0.9286)\n",
            "epoch: 126loss: tensor(0.9296)\n",
            "epoch: 127loss: tensor(0.9281)\n",
            "epoch: 128loss: tensor(0.9286)\n",
            "epoch: 129loss: tensor(0.9273)\n",
            "epoch: 130loss: tensor(0.9287)\n",
            "epoch: 131loss: tensor(0.9300)\n",
            "epoch: 132loss: tensor(0.9277)\n",
            "epoch: 133loss: tensor(0.9262)\n",
            "epoch: 134loss: tensor(0.9269)\n",
            "epoch: 135loss: tensor(0.9263)\n",
            "epoch: 136loss: tensor(0.9270)\n",
            "epoch: 137loss: tensor(0.9268)\n",
            "epoch: 138loss: tensor(0.9262)\n",
            "epoch: 139loss: tensor(0.9254)\n",
            "epoch: 140loss: tensor(0.9258)\n",
            "epoch: 141loss: tensor(0.9245)\n",
            "epoch: 142loss: tensor(0.9255)\n",
            "epoch: 143loss: tensor(0.9238)\n",
            "epoch: 144loss: tensor(0.9252)\n",
            "epoch: 145loss: tensor(0.9237)\n",
            "epoch: 146loss: tensor(0.9245)\n",
            "epoch: 147loss: tensor(0.9230)\n",
            "epoch: 148loss: tensor(0.9243)\n",
            "epoch: 149loss: tensor(0.9229)\n",
            "epoch: 150loss: tensor(0.9239)\n",
            "epoch: 151loss: tensor(0.9221)\n",
            "epoch: 152loss: tensor(0.9234)\n",
            "epoch: 153loss: tensor(0.9218)\n",
            "epoch: 154loss: tensor(0.9227)\n",
            "epoch: 155loss: tensor(0.9212)\n",
            "epoch: 156loss: tensor(0.9224)\n",
            "epoch: 157loss: tensor(0.9213)\n",
            "epoch: 158loss: tensor(0.9222)\n",
            "epoch: 159loss: tensor(0.9208)\n",
            "epoch: 160loss: tensor(0.9219)\n",
            "epoch: 161loss: tensor(0.9202)\n",
            "epoch: 162loss: tensor(0.9214)\n",
            "epoch: 163loss: tensor(0.9198)\n",
            "epoch: 164loss: tensor(0.9207)\n",
            "epoch: 165loss: tensor(0.9197)\n",
            "epoch: 166loss: tensor(0.9203)\n",
            "epoch: 167loss: tensor(0.9193)\n",
            "epoch: 168loss: tensor(0.9199)\n",
            "epoch: 169loss: tensor(0.9192)\n",
            "epoch: 170loss: tensor(0.9195)\n",
            "epoch: 171loss: tensor(0.9187)\n",
            "epoch: 172loss: tensor(0.9191)\n",
            "epoch: 173loss: tensor(0.9181)\n",
            "epoch: 174loss: tensor(0.9187)\n",
            "epoch: 175loss: tensor(0.9178)\n",
            "epoch: 176loss: tensor(0.9183)\n",
            "epoch: 177loss: tensor(0.9178)\n",
            "epoch: 178loss: tensor(0.9184)\n",
            "epoch: 179loss: tensor(0.9172)\n",
            "epoch: 180loss: tensor(0.9181)\n",
            "epoch: 181loss: tensor(0.9169)\n",
            "epoch: 182loss: tensor(0.9173)\n",
            "epoch: 183loss: tensor(0.9167)\n",
            "epoch: 184loss: tensor(0.9183)\n",
            "epoch: 185loss: tensor(0.9163)\n",
            "epoch: 186loss: tensor(0.9170)\n",
            "epoch: 187loss: tensor(0.9157)\n",
            "epoch: 188loss: tensor(0.9165)\n",
            "epoch: 189loss: tensor(0.9158)\n",
            "epoch: 190loss: tensor(0.9166)\n",
            "epoch: 191loss: tensor(0.9152)\n",
            "epoch: 192loss: tensor(0.9159)\n",
            "epoch: 193loss: tensor(0.9150)\n",
            "epoch: 194loss: tensor(0.9159)\n",
            "epoch: 195loss: tensor(0.9147)\n",
            "epoch: 196loss: tensor(0.9161)\n",
            "epoch: 197loss: tensor(0.9146)\n",
            "epoch: 198loss: tensor(0.9154)\n",
            "epoch: 199loss: tensor(0.9144)\n",
            "epoch: 200loss: tensor(0.9156)\n"
          ]
        }
      ]
    },
    {
      "cell_type": "markdown",
      "source": [
        "### Testing the SAE"
      ],
      "metadata": {
        "id": "QdjN0F_6_QyD"
      }
    },
    {
      "cell_type": "code",
      "source": [
        "test_loss = 0\n",
        "s = 0.\n",
        "for id_user in range(nb_users):\n",
        "  input = Variable(training_set[id_user]).unsqueeze(0)\n",
        "  target = Variable(test_set[id_user]).unsqueeze(0)\n",
        "  if torch.sum(target.data > 0) > 0:\n",
        "    output = sae(input)\n",
        "    target.require_grad = False\n",
        "    output[target == 0] = 0\n",
        "    loss = criterion(output, target)\n",
        "    mean_corrector = nb_movies/float(torch.sum(target.data > 0) + 1e-10)\n",
        "    test_loss += np.sqrt(loss.data*mean_corrector)\n",
        "    s += 1.\n",
        "print('test loss: '+str(test_loss/s))"
      ],
      "metadata": {
        "colab": {
          "base_uri": "https://localhost:8080/"
        },
        "id": "s1vjSFI3_SlQ",
        "outputId": "82ba18d3-8a31-426b-d611-ca1f2c844e36"
      },
      "execution_count": 28,
      "outputs": [
        {
          "output_type": "stream",
          "name": "stdout",
          "text": [
            "test loss: tensor(0.9524)\n"
          ]
        }
      ]
    }
  ]
}